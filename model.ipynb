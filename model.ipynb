{
 "cells": [
  {
   "cell_type": "code",
   "execution_count": 3,
   "metadata": {},
   "outputs": [],
   "source": [
    "# Import modules and packages\n",
    "import tensorflow as tf\n",
    "import numpy as np\n",
    "import matplotlib.pyplot as plt"
   ]
  },
  {
   "cell_type": "code",
   "execution_count": 5,
   "metadata": {},
   "outputs": [],
   "source": [
    "# Functions and procedures\n",
    "def plot_predictions(train_data, train_labels,  test_data, test_labels,  predictions):\n",
    "    \"\"\"\n",
    "    Plots training data, test data and compares predictions.\n",
    "    \"\"\"\n",
    "    plt.figure(figsize=(6, 5))\n",
    "    # Plot training data in blue\n",
    "    plt.scatter(train_data, train_labels, c=\"b\", label=\"Training data\")\n",
    "    # Plot test data in green\n",
    "    plt.scatter(test_data, test_labels, c=\"g\", label=\"Testing data\")\n",
    "    # Plot the predictions in red (predictions were made on the test data)\n",
    "    plt.scatter(test_data, predictions, c=\"r\", label=\"Predictions\")\n",
    "    # Show the legend\n",
    "    plt.legend(shadow='True')\n",
    "    # Set grids\n",
    "    plt.grid(which='major', c='#cccccc', linestyle='--', alpha=0.5)\n",
    "    # Some text\n",
    "    plt.title('Model Results', family='Arial', fontsize=14)\n",
    "    plt.xlabel('X axis values', family='Arial', fontsize=11)\n",
    "    plt.ylabel('Y axis values', family='Arial', fontsize=11)\n",
    "    # Show\n",
    "    plt.savefig('model_results.png', dpi=120)\n",
    "\n",
    "def mae(y_test, y_pred):\n",
    "    \"\"\"\n",
    "    Calculuates mean absolute error between y_test and y_preds.\n",
    "    \"\"\"\n",
    "    return tf.metrics.mean_absolute_error(y_test, y_pred)\n",
    "    \n",
    "def mse(y_test, y_pred):\n",
    "    \"\"\"\n",
    "    Calculates mean squared error between y_test and y_preds.\n",
    "    \"\"\"\n",
    "    return tf.metrics.mean_squared_error(y_test, y_pred)"
   ]
  },
  {
   "cell_type": "code",
   "execution_count": 6,
   "metadata": {},
   "outputs": [
    {
     "name": "stdout",
     "output_type": "stream",
     "text": [
      "2.8.0\n"
     ]
    }
   ],
   "source": [
    "# Check Tensorflow version\n",
    "print(tf.__version__)\n",
    "\n",
    "# Create features\n",
    "X = np.arange(-100, 100, 4)\n",
    "\n",
    "# Create labels\n",
    "y = np.arange(-90, 110, 4)"
   ]
  },
  {
   "cell_type": "code",
   "execution_count": 15,
   "metadata": {},
   "outputs": [
    {
     "name": "stdout",
     "output_type": "stream",
     "text": [
      "()\n"
     ]
    }
   ],
   "source": [
    "# Split data into train and test sets\n",
    "X_train = X[:40] # first 40 examples (80% of data)\n",
    "y_train = y[:40]\n",
    "\n",
    "X_test = X[40:] # last 10 examples (20% of data)\n",
    "y_test = y[40:]\n",
    "\n",
    "\n",
    "# Take a single example of X\n",
    "input_shape = X[0].shape \n",
    "\n",
    "# Take a single example of y\n",
    "output_shape = y[0].shape\n",
    "\n",
    "print(input_shape)"
   ]
  },
  {
   "cell_type": "code",
   "execution_count": 17,
   "metadata": {},
   "outputs": [
    {
     "name": "stdout",
     "output_type": "stream",
     "text": [
      "Epoch 1/50\n",
      "2/2 [==============================] - 10s 335ms/step - loss: 15.9024 - mae: 15.9024\n",
      "Epoch 2/50\n",
      "2/2 [==============================] - 0s 6ms/step - loss: 11.2837 - mae: 11.2837\n",
      "Epoch 3/50\n",
      "2/2 [==============================] - 0s 6ms/step - loss: 11.1075 - mae: 11.1075\n",
      "Epoch 4/50\n",
      "2/2 [==============================] - 0s 7ms/step - loss: 9.2990 - mae: 9.2990\n",
      "Epoch 5/50\n",
      "2/2 [==============================] - 0s 7ms/step - loss: 10.1677 - mae: 10.1677\n",
      "Epoch 6/50\n",
      "2/2 [==============================] - 0s 11ms/step - loss: 9.4303 - mae: 9.4303\n",
      "Epoch 7/50\n",
      "2/2 [==============================] - 0s 7ms/step - loss: 8.5704 - mae: 8.5704\n",
      "Epoch 8/50\n",
      "2/2 [==============================] - 0s 9ms/step - loss: 9.0442 - mae: 9.0442\n",
      "Epoch 9/50\n",
      "2/2 [==============================] - 0s 9ms/step - loss: 18.7517 - mae: 18.7517\n",
      "Epoch 10/50\n",
      "2/2 [==============================] - 0s 7ms/step - loss: 10.1142 - mae: 10.1142\n",
      "Epoch 11/50\n",
      "2/2 [==============================] - 0s 9ms/step - loss: 8.3980 - mae: 8.3980\n",
      "Epoch 12/50\n",
      "2/2 [==============================] - 0s 11ms/step - loss: 10.6639 - mae: 10.6639\n",
      "Epoch 13/50\n",
      "2/2 [==============================] - 0s 7ms/step - loss: 9.7977 - mae: 9.7977\n",
      "Epoch 14/50\n",
      "2/2 [==============================] - 0s 9ms/step - loss: 16.0103 - mae: 16.0103\n",
      "Epoch 15/50\n",
      "2/2 [==============================] - 0s 6ms/step - loss: 11.4068 - mae: 11.4068\n",
      "Epoch 16/50\n",
      "2/2 [==============================] - 0s 6ms/step - loss: 8.5393 - mae: 8.5393\n",
      "Epoch 17/50\n",
      "2/2 [==============================] - 0s 6ms/step - loss: 13.6348 - mae: 13.6348\n",
      "Epoch 18/50\n",
      "2/2 [==============================] - 0s 6ms/step - loss: 11.4629 - mae: 11.4629\n",
      "Epoch 19/50\n",
      "2/2 [==============================] - 0s 11ms/step - loss: 17.9148 - mae: 17.9148\n",
      "Epoch 20/50\n",
      "2/2 [==============================] - 0s 7ms/step - loss: 15.0494 - mae: 15.0494\n",
      "Epoch 21/50\n",
      "2/2 [==============================] - 0s 6ms/step - loss: 11.0216 - mae: 11.0216\n",
      "Epoch 22/50\n",
      "2/2 [==============================] - 0s 5ms/step - loss: 8.1558 - mae: 8.1558\n",
      "Epoch 23/50\n",
      "2/2 [==============================] - 0s 10ms/step - loss: 9.5138 - mae: 9.5138\n",
      "Epoch 24/50\n",
      "2/2 [==============================] - 0s 6ms/step - loss: 7.6617 - mae: 7.6617\n",
      "Epoch 25/50\n",
      "2/2 [==============================] - 0s 9ms/step - loss: 13.1859 - mae: 13.1859\n",
      "Epoch 26/50\n",
      "2/2 [==============================] - 0s 5ms/step - loss: 16.4211 - mae: 16.4211\n",
      "Epoch 27/50\n",
      "2/2 [==============================] - 0s 8ms/step - loss: 13.1660 - mae: 13.1660\n",
      "Epoch 28/50\n",
      "2/2 [==============================] - 0s 9ms/step - loss: 14.2559 - mae: 14.2559\n",
      "Epoch 29/50\n",
      "2/2 [==============================] - 0s 6ms/step - loss: 10.0670 - mae: 10.0670\n",
      "Epoch 30/50\n",
      "2/2 [==============================] - 0s 7ms/step - loss: 16.3409 - mae: 16.3409\n",
      "Epoch 31/50\n",
      "2/2 [==============================] - 0s 6ms/step - loss: 23.6444 - mae: 23.6444\n",
      "Epoch 32/50\n",
      "2/2 [==============================] - 0s 6ms/step - loss: 7.6215 - mae: 7.6215\n",
      "Epoch 33/50\n",
      "2/2 [==============================] - 0s 8ms/step - loss: 9.3221 - mae: 9.3221\n",
      "Epoch 34/50\n",
      "2/2 [==============================] - 0s 6ms/step - loss: 13.7313 - mae: 13.7313\n",
      "Epoch 35/50\n",
      "2/2 [==============================] - 0s 8ms/step - loss: 11.1276 - mae: 11.1276\n",
      "Epoch 36/50\n",
      "2/2 [==============================] - 0s 8ms/step - loss: 13.3222 - mae: 13.3222\n",
      "Epoch 37/50\n",
      "2/2 [==============================] - 0s 7ms/step - loss: 9.4763 - mae: 9.4763\n",
      "Epoch 38/50\n",
      "2/2 [==============================] - 0s 12ms/step - loss: 10.1381 - mae: 10.1381\n",
      "Epoch 39/50\n",
      "2/2 [==============================] - 0s 5ms/step - loss: 10.1793 - mae: 10.1793\n",
      "Epoch 40/50\n",
      "2/2 [==============================] - 0s 9ms/step - loss: 10.9137 - mae: 10.9137\n",
      "Epoch 41/50\n",
      "2/2 [==============================] - 0s 10ms/step - loss: 7.9063 - mae: 7.9063\n",
      "Epoch 42/50\n",
      "2/2 [==============================] - 0s 8ms/step - loss: 10.0914 - mae: 10.0914\n",
      "Epoch 43/50\n",
      "2/2 [==============================] - 0s 5ms/step - loss: 8.7006 - mae: 8.7006\n",
      "Epoch 44/50\n",
      "2/2 [==============================] - 0s 6ms/step - loss: 12.2046 - mae: 12.2046\n",
      "Epoch 45/50\n",
      "2/2 [==============================] - 0s 11ms/step - loss: 13.7970 - mae: 13.7970\n",
      "Epoch 46/50\n",
      "2/2 [==============================] - 0s 6ms/step - loss: 8.4687 - mae: 8.4687\n",
      "Epoch 47/50\n",
      "2/2 [==============================] - 0s 10ms/step - loss: 9.1330 - mae: 9.1330\n",
      "Epoch 48/50\n",
      "2/2 [==============================] - 0s 8ms/step - loss: 10.6190 - mae: 10.6190\n",
      "Epoch 49/50\n",
      "2/2 [==============================] - 0s 5ms/step - loss: 7.7503 - mae: 7.7503\n",
      "Epoch 50/50\n",
      "2/2 [==============================] - 0s 10ms/step - loss: 9.5407 - mae: 9.5407\n"
     ]
    },
    {
     "data": {
      "text/plain": [
       "<keras.callbacks.History at 0x1b5c16c4108>"
      ]
     },
     "execution_count": 17,
     "metadata": {},
     "output_type": "execute_result"
    }
   ],
   "source": [
    "# Set random seed\n",
    "tf.random.set_seed(42)\n",
    "\n",
    "# Create a model using the Sequential API\n",
    "model = tf.keras.Sequential([\n",
    "    tf.keras.layers.Dense(1), \n",
    "    # tf.keras.layers.Dense(1)\n",
    "    ])\n",
    "\n",
    "# Compile the model\n",
    "model.compile(loss = tf.keras.losses.mae,\n",
    "            optimizer = tf.keras.optimizers.SGD(),\n",
    "            metrics = ['mae'])\n",
    "\n",
    "# Fit the model\n",
    "model.fit(tf.expand_dims(X_train, axis=-1) , y_train, epochs=50)"
   ]
  },
  {
   "cell_type": "code",
   "execution_count": null,
   "metadata": {},
   "outputs": [],
   "source": [
    "# Make and plot predictions for model_1\n",
    "y_preds = model.predict(X_test)\n",
    "# plot_predictions(train_data=X_train, train_labels=y_train,  test_data=X_test, test_labels=y_test,  predictions=y_preds)\n",
    "\n",
    "\n",
    "# Calculate model_1 metrics \n",
    "mae_1 = np.round(float(mae(y_test, y_preds.squeeze()).numpy()), 2)\n",
    "mse_1 = np.round(float(mse(y_test, y_preds.squeeze()).numpy()), 2)\n",
    "print(f'\\nMean Absolute Error = {mae_1}, Mean Squared Error = {mse_1}.')"
   ]
  }
 ],
 "metadata": {
  "kernelspec": {
   "display_name": "Python 3",
   "language": "python",
   "name": "python3"
  },
  "language_info": {
   "codemirror_mode": {
    "name": "ipython",
    "version": 3
   },
   "file_extension": ".py",
   "mimetype": "text/x-python",
   "name": "python",
   "nbconvert_exporter": "python",
   "pygments_lexer": "ipython3",
   "version": "3.7.7"
  },
  "orig_nbformat": 4,
  "vscode": {
   "interpreter": {
    "hash": "cdfc0e0d1eba7988f08aa2ab42bc8c5743d53dd9b7d2f12138af97eb682842c7"
   }
  }
 },
 "nbformat": 4,
 "nbformat_minor": 2
}
